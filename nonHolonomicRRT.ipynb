{
 "cells": [
  {
   "cell_type": "code",
   "execution_count": 23,
   "metadata": {},
   "outputs": [],
   "source": [
    "import numpy as np\n",
    "from numpy.linalg import norm\n",
    "from math import *\n",
    "from matplotlib import pyplot as plt\n",
    "from matplotlib.patches import Polygon\n",
    "import random\n",
    "from scipy.spatial import ConvexHull\n",
    "from matplotlib.animation import FuncAnimation\n",
    "from matplotlib import path\n",
    "import time\n",
    "import cv2\n",
    "from glob import glob\n",
    "import os\n",
    "import shutil\n",
    "from queue import PriorityQueue \n",
    "from queue import LifoQueue\n",
    "%matplotlib inline"
   ]
  },
  {
   "cell_type": "markdown",
   "metadata": {},
   "source": [
    "<h3><b>The Environment</b></h3>\n",
    "We created a 5 x 5 Environment for the RRT experiment and planted some obstacles using the Convex Hull function from scipy.spatial. We planted two trapezoidal obstacles in the top and bottom and similar trapezoidal obstacles on the right side. The end point is put in the bottom right corner."
   ]
  },
  {
   "cell_type": "code",
   "execution_count": 24,
   "metadata": {},
   "outputs": [],
   "source": [
    "def draw_map(obstacles):\n",
    "    \n",
    "    world_bounds_x = [-2.5, 2.5]\n",
    "    world_bounds_y = [-2.5, 2.5]\n",
    "\n",
    "\n",
    "    # Draw obstacles\n",
    "    fig = plt.figure(figsize=(10, 10))\n",
    "    plt.grid()\n",
    "    ax = plt.gca()\n",
    "    ax.set_xlim(world_bounds_x)\n",
    "    ax.set_ylim(world_bounds_y)\n",
    "    \n",
    "    for k in range(len(obstacles)):\n",
    "        ax.add_patch(Polygon(obstacles[k]))"
   ]
  },
  {
   "cell_type": "code",
   "execution_count": 25,
   "metadata": {},
   "outputs": [
    {
     "data": {
      "image/png": "[encoded data removed]",
      "text/plain": [
       "<Figure size 720x720 with 1 Axes>"
      ]
     },
     "metadata": {
      "needs_background": "light"
     },
     "output_type": "display_data"
    }
   ],
   "source": [
    "w = 0.2\n",
    "\n",
    "#Creating arbritarily shaped obstacles\n",
    "\n",
    "obstacles = [\n",
    "              np.array([[0.3,0.4], [0.8,0.5], [0.9,1.2], [0.3,1.0]]),\n",
    "              np.array([[0,0.2],[0.9,0.1],[0.9,-1.0],[-0.1,-1.5]]),\n",
    "              np.array([[-0.5, -0.5], [-1.5, -0.5], [-1, -1.5], [-0.8, -1.5]]),\n",
    "\n",
    "              np.array([[-0.5, 1.2], [-2.0, 1.2], [-1-w, 1.5+w], [-0.8, 1.5+w]])\n",
    "            ]\n",
    "draw_map(obstacles)"
   ]
  },
  {
   "cell_type": "markdown",
   "metadata": {},
   "source": [
    "<h2><u>THE ALGORITHM</u></h2>"
   ]
  },
  {
   "cell_type": "markdown",
   "metadata": {},
   "source": [
    "<h4>The Robot</h4>\n",
    "For the RRT algorithm, holonomic case, we are using a Differential Drive robot for our experiments that can turn in any direction as and when required.<br>\n",
    "The Kinematics for the robot are-<br>\n",
    "If we consider $x_{icc}$ and $y_{icc}$ as the center of the system, then the left and right wheels velocity, which are coupled, will be then coupled together by an angle $\\theta$, which the Center of Mass(CoM) makes with the normal, so the subsequent Kinematic equations will be-<br>\n",
    "<center>$v_x$ = $v_{cm}$*cos($\\theta$(t))</center>\n",
    "<center>$v_y$ = $v_{cm}$*sin($\\theta$(t))</center>\n",
    "Here, $v_{cm}$ denotes the velocity of the center of Mass and the subsequent x and y distances can be obtained by integrating the above equations wrt time, while $\\theta(t)$ can be obtained by integrating $\\omega$ w.r.t time."
   ]
  },
  {
   "cell_type": "code",
   "execution_count": 26,
   "metadata": {},
   "outputs": [],
   "source": [
    "class Node:\n",
    "    \n",
    "    def __init__(self):\n",
    "        self.p     = [0, 0]\n",
    "        self.i     = 0\n",
    "        self.iPrev = 0"
   ]
  },
  {
   "cell_type": "code",
   "execution_count": 27,
   "metadata": {},
   "outputs": [],
   "source": [
    "def closestNode(rrt, p):\n",
    "    \n",
    "    #Finds the closest node in the tree to the generated point.\n",
    "    \n",
    "    distance = []\n",
    "    for node in rrt:\n",
    "        distance.append( sqrt((p[0] - node.p[0]) ** 2 + (p[1] - node.p[1]) ** 2) )\n",
    "    distance = np.array(distance)\n",
    "\n",
    "    dmin = min(distance)\n",
    "    ind_min = distance.tolist().index(dmin)\n",
    "    closest_node = rrt[ind_min]\n",
    "\n",
    "    return closest_node"
   ]
  },
  {
   "cell_type": "code",
   "execution_count": 28,
   "metadata": {},
   "outputs": [],
   "source": [
    "def isCollisionFreeVertex(obstacles, xy):\n",
    "    \n",
    "    #Checking if the point has spawned in a valid location\n",
    "    \n",
    "    collFree = True\n",
    "\n",
    "    for obstacle in obstacles:\n",
    "        hull = path.Path(obstacle)\n",
    "        collFree = not hull.contains_points([xy])\n",
    "        if hull.contains_points([xy]):\n",
    "            return collFree\n",
    "\n",
    "    return collFree"
   ]
  },
  {
   "cell_type": "code",
   "execution_count": 29,
   "metadata": {},
   "outputs": [],
   "source": [
    "def isCollisionFreeEdge(obstacles, closest_vert, xy):\n",
    "    \n",
    "    #Checking if the line joining closest_vert and xy is free of obstacles or not\n",
    "    \n",
    "    closest_vert = np.array(closest_vert); xy = np.array(xy)\n",
    "    collFree = True\n",
    "    l = norm(closest_vert - xy)\n",
    "    map_resolution = 0.01; M = int(l / map_resolution)\n",
    "    \n",
    "    if M <= 2: M = 20\n",
    "    t = np.linspace(0, 1, M)\n",
    "    \n",
    "    for i in range(1 ,M-1):\n",
    "        p = (1 - t[i]) * closest_vert + t[i] * xy\n",
    "        collFree = isCollisionFreeVertex(obstacles, p) \n",
    "        if collFree == False: return False\n",
    "\n",
    "    return collFree"
   ]
  },
  {
   "cell_type": "code",
   "execution_count": 30,
   "metadata": {},
   "outputs": [],
   "source": [
    "def start_node(source):\n",
    "    \n",
    "    #Creates the source of class Node\n",
    "    \n",
    "    start_node = Node()\n",
    "    start_node.p = source\n",
    "    start_node.i = 0\n",
    "    start_node.iPrev = 0 \n",
    "    return start_node"
   ]
  },
  {
   "cell_type": "code",
   "execution_count": 31,
   "metadata": {},
   "outputs": [],
   "source": [
    "def get_point(goal):\n",
    "    #Generates a random point in the grid space\n",
    "#     rnd = random.random()\n",
    "#     if rnd < 0.01:\n",
    "#         #For good convergence, generating a point close to the goal\n",
    "#         point = np.array([goal[0] + rnd, goal[0] + rnd])\n",
    "#     elif rnd >= 0.01 and rnd < 0.02:\n",
    "#         point = np.array([goal[0] + rnd, goal[0] - rnd]) \n",
    "#     elif rnd >= 0.02 and rnd < 0.03:\n",
    "#         point = np.array([goal[0] - rnd, goal[0] - rnd]) \n",
    "#     elif rnd >= 0.03 and rnd < 0.04:\n",
    "#         point = np.array([goal[0] - rnd, goal[0] + rnd]) \n",
    "#     else:\n",
    "    point = np.array([random.random() * 5 - 2.5, random.random() * 5 - 2.5])    \n",
    "    return point"
   ]
  },
  {
   "cell_type": "code",
   "execution_count": 32,
   "metadata": {},
   "outputs": [],
   "source": [
    "def get_points_non_holo(exploree, V, dt):\n",
    "    #Generates a random point in the grid space\n",
    "    dalpha = np.arange(0,360,1)\n",
    "    random.shuffle(dalpha)\n",
    "    alpha_arr = np.array(dalpha[0:10])\n",
    "    points = []\n",
    "    for angle in alpha_arr:\n",
    "        #if angle == 90:\n",
    "        #    print(angle, exploree)\n",
    "        if angle != 90:\n",
    "            Vx = np.array(cos(radians(angle)) * V)\n",
    "            Vy = np.array(sin(radians(angle)) * V)\n",
    "            points.append(np.array([exploree[0] + Vx * dt, exploree[1] + Vy * dt]))\n",
    "    points = np.asarray(points)\n",
    "    return points"
   ]
  },
  {
   "cell_type": "code",
   "execution_count": 33,
   "metadata": {},
   "outputs": [],
   "source": [
    "def frames_to_video(input_path, output_path, fps):\n",
    "    '''\n",
    "        Function to Concatenate given frames and fps into a video file.\n",
    "        Input Arguments\n",
    "        input_path  : Path to the input directory containing input frames\n",
    "        output_path : Path to the output directory containing the video file\n",
    "        fps         : Frames per Second of the output video\n",
    "        Return\n",
    "        Boolean     : True is Video written successfully, False if writing is not successful.\n",
    "    '''\n",
    "    image_files = glob(input_path)\n",
    "    #print(image_files)    \n",
    "    \n",
    "    image_files = glob(input_path)\n",
    "    final = len(image_files)\n",
    "    location = \"./plots_temp\"\n",
    "    frames = [] \n",
    "    for f in range(1, final + 1):\n",
    "        frame = cv2.imread(f\"{location}/{f}.png\")\n",
    "        height, width, channels = frame.shape\n",
    "        size = (width, height)\n",
    "        frames.append(frame)\n",
    "\n",
    "    video_writer = cv2.VideoWriter(output_path, cv2.VideoWriter_fourcc(*'DIVX'), fps, size)\n",
    "    for frame in frames:\n",
    "        video_writer.write(frame)\n",
    "\n",
    "    video_writer.release()\n",
    "    return True"
   ]
  },
  {
   "cell_type": "code",
   "execution_count": 36,
   "metadata": {
    "scrolled": false
   },
   "outputs": [
    {
     "name": "stdout",
     "output_type": "stream",
     "text": [
      "Number of nodes:  1938\n"
     ]
    },
    {
     "data": {
      "image/png": "[encoded data removed]",
      "text/plain": [
       "<Figure size 720x720 with 1 Axes>"
      ]
     },
     "metadata": {
      "needs_background": "light"
     },
     "output_type": "display_data"
    }
   ],
   "source": [
    "if __name__ == \"__main__\":\n",
    "    \n",
    "    maxiters  = 2000\n",
    "    nearGoal = False \n",
    "    minDistGoal = 0.05\n",
    "    d = 0.1\n",
    "    dt = 0.2\n",
    "    if os.path.isdir(\"./plots_temp_non_holo\"):\n",
    "        shutil.rmtree(\"./plots_temp_non_holo\")\n",
    "    os.mkdir(\"./plots_temp_non_holo\")\n",
    "    \n",
    "    draw_map(obstacles)\n",
    "    #stack = LifoQueue()\n",
    "    xy_start = np.array([0.3, 0.3]); plt.plot(xy_start[0],xy_start[1],'^',color = 'orangered', markersize = 15)\n",
    "    xy_goal =  np.array([-2.0, -2.0]);  plt.plot(xy_goal[0], xy_goal[1], '^',color = 'lawngreen',markersize = 15)\n",
    "\n",
    "    rrt = []\n",
    "    rrt.append(start_node(xy_start))\n",
    "\n",
    "    #pq = PriorityQueue()\n",
    "    start_time = time.time()\n",
    "    iters = 0\n",
    "    to_explore = Node()\n",
    "    to_explore.p = xy_start\n",
    "    to_explore.i = 0\n",
    "    to_explore.iPrev = 0\n",
    "    to_explore_update = Node()\n",
    "    \n",
    "    while not nearGoal and iters < maxiters:\n",
    "        iters += 1\n",
    "        \n",
    "        sampled_trajectories = get_points_non_holo(to_explore.p, d, dt)\n",
    "        minDistFromGoal = 10e4\n",
    "        flag = True\n",
    "        \n",
    "        for t in sampled_trajectories:\n",
    "            if isCollisionFreeEdge(obstacles, to_explore.p, t) and t[0] < 2.5 and t[0] > -2.5 and t[1] < 2.5 and t[1] > -2.5:\n",
    "            \n",
    "                dist_from_goal = norm(xy_goal - t)\n",
    "                flag = False\n",
    "                to_node = Node()\n",
    "                to_node.p = t\n",
    "                to_node.iPrev = to_explore.i\n",
    "                to_node.i = to_explore.i + 1\n",
    "                \n",
    "                if dist_from_goal < minDistFromGoal:\n",
    "                    minDistFromGoal = dist_from_goal\n",
    "                    to_explore_update = to_node\n",
    "                rrt.append(to_node)\n",
    "                \n",
    "                if minDistFromGoal < minDistGoal:\n",
    "                    goal_node = Node()\n",
    "                    goal_node.p = xy_goal\n",
    "                    goal_node.i = len(rrt)\n",
    "                    goal_node.iPrev = to_node.i\n",
    "                    if isCollisionFreeEdge(obstacles, to_node.p, goal_node.p):\n",
    "                        rrt.append(goal_node)\n",
    "                        P = []\n",
    "                    else: \n",
    "                        P = []\n",
    "                    nearGoal = True\n",
    "                    \n",
    "            elif flag:\n",
    "                to_explore_update = rrt[len(rrt) - 1]\n",
    "          \n",
    "            plt.plot(to_node.p[0], to_node.p[1], 'o',color = 'blue', markersize = 0.6)\n",
    "            plt.plot([to_explore.p[0], to_node.p[0]], [to_explore.p[1], to_node.p[1]], color = 'aqua', linewidth = 0.7)\n",
    "       \n",
    "        to_explore = to_explore_update\n",
    "        plt.savefig(\"./plots_temp_non_holo/\" + str(iters) + \".png\")       \n",
    "       \n",
    "\n",
    "    plt.title(\"RRT path\", fontsize = 20, color = 'green')\n",
    "    i = len(rrt) - 1\n",
    "   \n",
    "    try:\n",
    "        for j in range(0,i):\n",
    "            P.append(rrt[j].p)\n",
    "\n",
    "        P = np.array(P)\n",
    "        print('Number of nodes: ', len(rrt))\n",
    "        #print(f\"Number of nodes on the RRT path: {P.shape[0]}\")\n",
    "        plt.plot(P[:,0],P[:,1], color = 'gold', linewidth = 0.5 )\n",
    "        \n",
    "    except:\n",
    "        print(f\"The Rapid Exploring Random Tree algorithm wasn't able to converge in {maxiters} iterations\")\n",
    "\n",
    "    finally:\n",
    "        frames_to_video(\"./plots_temp_non_holo/*.png\", \"./non_holonomic_path.mp4\", 24)"
   ]
  },
  {
   "cell_type": "markdown",
   "metadata": {},
   "source": [
    "Keypoints of the algorithm and the non-holonomic constraitn in action-\n",
    "<h3>The Starting of the Non-holonomic RRT and Encounter the first obstacle</h3>\n",
    "<img src = \"Non-holo1.jpeg\">\n",
    "\n",
    "<h3>The Robot continues its path towards goal by skating the obstacle</h3>\n",
    "<img src = \"Non-holo2.jpeg\">\n",
    "\n",
    "<h3>The Robot explores straight towards Goal</h3>\n",
    "<img src = \"Non-holo3.jpeg\">\n",
    "\n",
    "<h3>The Robot skates the second Obstacle</h3>\n",
    "<img src = \"Non-holo4.jpeg\">"
   ]
  },
  {
   "cell_type": "code",
   "execution_count": null,
   "metadata": {},
   "outputs": [],
   "source": []
  }
 ],
 "metadata": {
  "kernelspec": {
   "display_name": "Python 3",
   "language": "python",
   "name": "python3"
  },
  "language_info": {
   "codemirror_mode": {
    "name": "ipython",
    "version": 3
   },
   "file_extension": ".py",
   "mimetype": "text/x-python",
   "name": "python",
   "nbconvert_exporter": "python",
   "pygments_lexer": "ipython3",
   "version": "3.8.5"
  }
 },
 "nbformat": 4,
 "nbformat_minor": 4
}
