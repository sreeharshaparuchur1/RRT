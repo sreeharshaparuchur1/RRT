{
 "cells": [
  {
   "cell_type": "code",
   "execution_count": 5,
   "metadata": {},
   "outputs": [],
   "source": [
    "import numpy as np\n",
    "from numpy.linalg import norm\n",
    "from math import *\n",
    "from matplotlib import pyplot as plt\n",
    "from matplotlib.patches import Polygon\n",
    "import random\n",
    "from scipy.spatial import ConvexHull\n",
    "from matplotlib.animation import FuncAnimation\n",
    "from matplotlib import path\n",
    "import time\n",
    "import cv2\n",
    "from glob import glob\n",
    "import os\n",
    "import shutil\n",
    "from queue import PriorityQueue \n",
    "from queue import LifoQueue\n",
    "%matplotlib inline"
   ]
  },
  {
   "cell_type": "markdown",
   "metadata": {},
   "source": [
    "<h3><b>The Environment</b></h3>\n",
    "We created a 5 x 5 Environment for the RRT experiment and planted some obstacles using the Convex Hull function from scipy.spatial. We planted two trapezoidal obstacles in the top and bottom and similar trapezoidal obstacles on the right side. The end point is put in the bottom right corner."
   ]
  },
  {
   "cell_type": "code",
   "execution_count": 6,
   "metadata": {},
   "outputs": [],
   "source": [
    "def draw_map(obstacles):\n",
    "    \n",
    "    world_bounds_x = [-2.5, 2.5]\n",
    "    world_bounds_y = [-2.5, 2.5]\n",
    "\n",
    "\n",
    "    # Draw obstacles\n",
    "    fig = plt.figure(figsize=(10, 10))\n",
    "    plt.grid()\n",
    "    ax = plt.gca()\n",
    "    ax.set_xlim(world_bounds_x)\n",
    "    ax.set_ylim(world_bounds_y)\n",
    "    \n",
    "    for k in range(len(obstacles)):\n",
    "        ax.add_patch(Polygon(obstacles[k]))"
   ]
  },
  {
   "cell_type": "code",
   "execution_count": 7,
   "metadata": {},
   "outputs": [
    {
     "data": {
      "image/png": "[encoded data removed]",
      "text/plain": [
       "<Figure size 720x720 with 1 Axes>"
      ]
     },
     "metadata": {
      "needs_background": "light"
     },
     "output_type": "display_data"
    }
   ],
   "source": [
    "w = 0.2\n",
    "\n",
    "#Creating arbritarily shaped obstacles\n",
    "\n",
    "obstacles = [\n",
    "              np.array([[0.3,0.4], [0.8,0.5], [0.9,1.2], [0.3,1.0]]),\n",
    "              np.array([[0,0.2],[0.9,0.1],[0.9,-1.0],[-0.1,-1.5]]),\n",
    "              np.array([[-0.5, -0.5], [-1.5, -0.5], [-1, -1.5], [-0.8, -1.5]]),\n",
    "\n",
    "              np.array([[-0.5, 1.2], [-2.0, 1.2], [-1-w, 1.5+w], [-0.8, 1.5+w]])\n",
    "            ]\n",
    "draw_map(obstacles)"
   ]
  },
  {
   "cell_type": "markdown",
   "metadata": {},
   "source": [
    "<h2><u>THE ALGORITHM</u></h2>"
   ]
  },
  {
   "cell_type": "markdown",
   "metadata": {},
   "source": [
    "<h4>The Robot</h4>\n",
    "For the RRT algorithm, holonomic case, we are using a Differential Drive robot for our experiments that can turn in any direction as and when required.<br>\n",
    "The Kinematics for the robot are-<br>\n",
    "If we consider $x_{icc}$ and $y_{icc}$ as the center of the system, then the left and right wheels velocity, which are coupled, will be then coupled together by an angle $\\theta$, which the Center of Mass(CoM) makes with the normal, so the subsequent Kinematic equations will be-<br>\n",
    "<center>$v_x$ = $v_{cm}$*cos($\\theta$(t))</center>\n",
    "<center>$v_y$ = $v_{cm}$*sin($\\theta$(t))</center>\n",
    "Here, $v_{cm}$ denotes the velocity of the center of Mass and the subsequent x and y distances can be obtained by integrating the above equations wrt time, while $\\theta(t)$ can be obtained by integrating $\\omega$ w.r.t time."
   ]
  },
  {
   "cell_type": "code",
   "execution_count": 8,
   "metadata": {},
   "outputs": [],
   "source": [
    "class Node:\n",
    "    \n",
    "    def __init__(self):\n",
    "        self.p     = [0, 0]\n",
    "        self.i     = 0\n",
    "        self.iPrev = 0"
   ]
  },
  {
   "cell_type": "code",
   "execution_count": 9,
   "metadata": {},
   "outputs": [],
   "source": [
    "def closestNode(rrt, p):\n",
    "    \n",
    "    #Finds the closest node in the tree to the generated point.\n",
    "    \n",
    "    distance = []\n",
    "    for node in rrt:\n",
    "        distance.append( sqrt((p[0] - node.p[0]) ** 2 + (p[1] - node.p[1]) ** 2) )\n",
    "    distance = np.array(distance)\n",
    "\n",
    "    dmin = min(distance)\n",
    "    ind_min = distance.tolist().index(dmin)\n",
    "    closest_node = rrt[ind_min]\n",
    "\n",
    "    return closest_node"
   ]
  },
  {
   "cell_type": "code",
   "execution_count": 10,
   "metadata": {},
   "outputs": [],
   "source": [
    "def isCollisionFreeVertex(obstacles, xy):\n",
    "    \n",
    "    #Checking if the point has spawned in a valid location\n",
    "    \n",
    "    collFree = True\n",
    "\n",
    "    for obstacle in obstacles:\n",
    "        hull = path.Path(obstacle)\n",
    "        collFree = not hull.contains_points([xy])\n",
    "        if hull.contains_points([xy]):\n",
    "            return collFree\n",
    "\n",
    "    return collFree"
   ]
  },
  {
   "cell_type": "code",
   "execution_count": 11,
   "metadata": {},
   "outputs": [],
   "source": [
    "def isCollisionFreeEdge(obstacles, closest_vert, xy):\n",
    "    \n",
    "    #Checking if the line joining closest_vert and xy is free of obstacles or not\n",
    "    \n",
    "    closest_vert = np.array(closest_vert); xy = np.array(xy)\n",
    "    collFree = True\n",
    "    l = norm(closest_vert - xy)\n",
    "    map_resolution = 0.01; M = int(l / map_resolution)\n",
    "    \n",
    "    if M <= 2: M = 20\n",
    "    t = np.linspace(0, 1, M)\n",
    "    \n",
    "    for i in range(1 ,M-1):\n",
    "        p = (1 - t[i]) * closest_vert + t[i] * xy\n",
    "        collFree = isCollisionFreeVertex(obstacles, p) \n",
    "        if collFree == False: return False\n",
    "\n",
    "    return collFree"
   ]
  },
  {
   "cell_type": "code",
   "execution_count": 12,
   "metadata": {},
   "outputs": [],
   "source": [
    "def start_node(source):\n",
    "    \n",
    "    #Creates the source of class Node\n",
    "    \n",
    "    start_node = Node()\n",
    "    start_node.p = source\n",
    "    start_node.i = 0\n",
    "    start_node.iPrev = 0 \n",
    "    return start_node"
   ]
  },
  {
   "cell_type": "code",
   "execution_count": 13,
   "metadata": {},
   "outputs": [],
   "source": [
    "def get_point(goal):\n",
    "    #Generates a random point in the grid space\n",
    "#     rnd = random.random()\n",
    "#     if rnd < 0.01:\n",
    "#         #For good convergence, generating a point close to the goal\n",
    "#         point = np.array([goal[0] + rnd, goal[0] + rnd])\n",
    "#     elif rnd >= 0.01 and rnd < 0.02:\n",
    "#         point = np.array([goal[0] + rnd, goal[0] - rnd]) \n",
    "#     elif rnd >= 0.02 and rnd < 0.03:\n",
    "#         point = np.array([goal[0] - rnd, goal[0] - rnd]) \n",
    "#     elif rnd >= 0.03 and rnd < 0.04:\n",
    "#         point = np.array([goal[0] - rnd, goal[0] + rnd]) \n",
    "#     else:\n",
    "    point = np.array([random.random() * 5 - 2.5, random.random() * 5 - 2.5])    \n",
    "    return point"
   ]
  },
  {
   "cell_type": "code",
   "execution_count": 14,
   "metadata": {},
   "outputs": [],
   "source": [
    "def get_points_non_holo(exploree, V, dt):\n",
    "    #Generates a random point in the grid space\n",
    "    dalpha = np.arange(0,360,1)\n",
    "    random.shuffle(dalpha)\n",
    "    alpha_arr = np.array(dalpha[0:10])\n",
    "    points = []\n",
    "    for angle in alpha_arr:\n",
    "        #if angle == 90:\n",
    "        #    print(angle, exploree)\n",
    "        if angle != 90:\n",
    "            Vx = np.array(cos(radians(angle)) * V)\n",
    "            Vy = np.array(sin(radians(angle)) * V)\n",
    "            points.append(np.array([exploree[0] + Vx * dt, exploree[1] + Vy * dt]))\n",
    "    points = np.asarray(points)\n",
    "    return points"
   ]
  },
  {
   "cell_type": "code",
   "execution_count": 26,
   "metadata": {},
   "outputs": [],
   "source": [
    "def frames_to_video(input_path, output_path, fps):\n",
    "    '''\n",
    "        Function to Concatenate given frames and fps into a video file.\n",
    "        Input Arguments\n",
    "        input_path  : Path to the input directory containing input frames\n",
    "        output_path : Path to the output directory containing the video file\n",
    "        fps         : Frames per Second of the output video\n",
    "        Return\n",
    "        Boolean     : True is Video written successfully, False if writing is not successful.\n",
    "    '''\n",
    "    image_files = glob(input_path)\n",
    "    #print(image_files)    \n",
    "    \n",
    "    image_files = glob(input_path)\n",
    "    final = len(image_files)\n",
    "    location = \"./plots_temp\"\n",
    "    frames = [] \n",
    "    for f in range(1, final + 1):\n",
    "        frame = cv2.imread(f\"{location}/{f}.png\")\n",
    "        height, width, channels = frame.shape\n",
    "        size = (width, height)\n",
    "        frames.append(frame)\n",
    "\n",
    "    video_writer = cv2.VideoWriter(output_path, cv2.VideoWriter_fourcc(*'DIVX'), fps, size)\n",
    "    for frame in frames:\n",
    "        video_writer.write(frame)\n",
    "\n",
    "    video_writer.release()\n",
    "    return True\n",
    "\n",
    "def frames_to_video_wheel(input_path, output_path, fps):\n",
    "    '''\n",
    "        Function to Concatenate given frames and fps into a video file.\n",
    "        Input Arguments\n",
    "        input_path  : Path to the input directory containing input frames\n",
    "        output_path : Path to the output directory containing the video file\n",
    "        fps         : Frames per Second of the output video\n",
    "        Return\n",
    "        Boolean     : True is Video written successfully, False if writing is not successful.\n",
    "    '''\n",
    "    image_files = glob(input_path)\n",
    "    #print(image_files)    \n",
    "    \n",
    "    image_files = glob(input_path)\n",
    "    final = len(image_files)\n",
    "    location = \"./plots_temp_non_holo_wheel\"\n",
    "    print(final)\n",
    "    frames = [] \n",
    "    for f in range(0, final - 1):\n",
    "        frame = cv2.imread(f\"{location}/{10 * f}.png\")\n",
    "        height, width, channels = frame.shape\n",
    "        size = (width, height)\n",
    "        frames.append(frame)\n",
    "        \n",
    "    frame = cv2.imread(f\"{location}/{final - 1}.png\")\n",
    "    height, width, channels = frame.shape\n",
    "    size = (width, height)\n",
    "    frames.append(frame)\n",
    "        \n",
    "    video_writer = cv2.VideoWriter(output_path, cv2.VideoWriter_fourcc(*'DIVX'), fps, size)\n",
    "    for frame in frames:\n",
    "        video_writer.write(frame)\n",
    "\n",
    "    video_writer.release()\n",
    "    return True"
   ]
  },
  {
   "cell_type": "code",
   "execution_count": 16,
   "metadata": {
    "scrolled": false
   },
   "outputs": [
    {
     "name": "stdout",
     "output_type": "stream",
     "text": [
      "Number of nodes:  1966\n"
     ]
    },
    {
     "data": {
      "image/png": "[encoded data removed]",
      "text/plain": [
       "<Figure size 720x720 with 1 Axes>"
      ]
     },
     "metadata": {
      "needs_background": "light"
     },
     "output_type": "display_data"
    }
   ],
   "source": [
    "if __name__ == \"__main__\":\n",
    "    \n",
    "    maxiters  = 2000\n",
    "    nearGoal = False \n",
    "    minDistGoal = 0.05\n",
    "    d = 0.1\n",
    "    dt = 0.2\n",
    "    if os.path.isdir(\"./plots_temp_non_holo\"):\n",
    "        shutil.rmtree(\"./plots_temp_non_holo\")\n",
    "    os.mkdir(\"./plots_temp_non_holo\")\n",
    "    \n",
    "    draw_map(obstacles)\n",
    "    #stack = LifoQueue()\n",
    "    xy_start = np.array([0.3, 0.3]); plt.plot(xy_start[0],xy_start[1],'^',color = 'orangered', markersize = 15)\n",
    "    xy_goal =  np.array([-2.0, -2.0]);  plt.plot(xy_goal[0], xy_goal[1], '^',color = 'lawngreen',markersize = 15)\n",
    "\n",
    "    rrt = []\n",
    "    rrt.append(start_node(xy_start))\n",
    "\n",
    "    #pq = PriorityQueue()\n",
    "    start_time = time.time()\n",
    "    iters = 0\n",
    "    to_explore = Node()\n",
    "    to_explore.p = xy_start\n",
    "    to_explore.i = 0\n",
    "    to_explore.iPrev = 0\n",
    "    to_explore_update = Node()\n",
    "    \n",
    "    while not nearGoal and iters < maxiters:\n",
    "        iters += 1\n",
    "        \n",
    "        sampled_trajectories = get_points_non_holo(to_explore.p, d, dt)\n",
    "        minDistFromGoal = 10e4\n",
    "        flag = True\n",
    "        \n",
    "        for t in sampled_trajectories:\n",
    "            if isCollisionFreeEdge(obstacles, to_explore.p, t) and t[0] < 2.5 and t[0] > -2.5 and t[1] < 2.5 and t[1] > -2.5:\n",
    "            \n",
    "                dist_from_goal = norm(xy_goal - t)\n",
    "                flag = False\n",
    "                to_node = Node()\n",
    "                to_node.p = t\n",
    "                to_node.iPrev = to_explore.i\n",
    "                to_node.i = to_explore.i + 1\n",
    "                \n",
    "                if dist_from_goal < minDistFromGoal:\n",
    "                    minDistFromGoal = dist_from_goal\n",
    "                    to_explore_update = to_node\n",
    "                rrt.append(to_node)\n",
    "                \n",
    "                if minDistFromGoal < minDistGoal:\n",
    "                    goal_node = Node()\n",
    "                    goal_node.p = xy_goal\n",
    "                    goal_node.i = len(rrt)\n",
    "                    goal_node.iPrev = to_node.i\n",
    "                    if isCollisionFreeEdge(obstacles, to_node.p, goal_node.p):\n",
    "                        rrt.append(goal_node)\n",
    "                        P = []\n",
    "                    else: \n",
    "                        P = []\n",
    "                    nearGoal = True\n",
    "                    \n",
    "            elif flag:\n",
    "                to_explore_update = rrt[len(rrt) - 1]\n",
    "          \n",
    "            plt.plot(to_node.p[0], to_node.p[1], 'o',color = 'blue', markersize = 0.6)\n",
    "            plt.plot([to_explore.p[0], to_node.p[0]], [to_explore.p[1], to_node.p[1]], color = 'aqua', linewidth = 0.7)\n",
    "       \n",
    "        to_explore = to_explore_update\n",
    "        plt.savefig(\"./plots_temp_non_holo/\" + str(iters) + \".png\")       \n",
    "       \n",
    "\n",
    "    plt.title(\"RRT path\", fontsize = 20, color = 'green')\n",
    "    i = len(rrt) - 1\n",
    "   \n",
    "    try:\n",
    "        for j in range(0,i):\n",
    "            P.append(rrt[j].p)\n",
    "\n",
    "        P = np.array(P)\n",
    "        print('Number of nodes: ', len(rrt))\n",
    "        #print(f\"Number of nodes on the RRT path: {P.shape[0]}\")\n",
    "        plt.plot(P[:,0],P[:,1], color = 'gold', linewidth = 0.5 )\n",
    "        \n",
    "    except:\n",
    "        print(f\"The Rapid Exploring Random Tree algorithm wasn't able to converge in {maxiters} iterations\")\n",
    "\n",
    "    finally:\n",
    "        frames_to_video(\"./plots_temp_non_holo/*.png\", \"./non_holonomic_path.mp4\", 24)"
   ]
  },
  {
   "cell_type": "markdown",
   "metadata": {},
   "source": [
    "Keypoints of the algorithm and the non-holonomic constraitn in action-\n",
    "<h3>The Starting of the Non-holonomic RRT and Encounter the first obstacle</h3>\n",
    "<img src = \"Non-holo1.jpeg\">\n",
    "\n",
    "<h3>The Robot continues its path towards goal by skating the obstacle</h3>\n",
    "<img src = \"Non-holo2.jpeg\">\n",
    "\n",
    "<h3>The Robot explores straight towards Goal</h3>\n",
    "<img src = \"Non-holo3.jpeg\">\n",
    "\n",
    "<h3>The Robot skates the second Obstacle</h3>\n",
    "<img src = \"Non-holo4.jpeg\">"
   ]
  },
  {
   "cell_type": "code",
   "execution_count": 23,
   "metadata": {},
   "outputs": [
    {
     "name": "stdout",
     "output_type": "stream",
     "text": [
      "1965\n"
     ]
    }
   ],
   "source": [
    "def get_gradient(point1, point2):\n",
    "    x1 = point1[0]; y1 = point1[1]\n",
    "    x2 = point2[0]; y2 = point2[1]\n",
    "    if x2 - x1 == 0:\n",
    "        return 10e4\n",
    "    return (y2 - y1) / (x2 - x1)\n",
    "\n",
    "def get_angle(m1, m2):\n",
    "    return atan((m1 - m2) / (1 + m1 * m2))\n",
    "\n",
    "\n",
    "if os.path.isdir(\"./plots_temp_non_holo_wheel\"):\n",
    "    shutil.rmtree(\"./plots_temp_non_holo_wheel\")\n",
    "os.mkdir(\"./plots_temp_non_holo_wheel\")\n",
    "print(len(P))"
   ]
  },
  {
   "cell_type": "code",
   "execution_count": 24,
   "metadata": {
    "scrolled": false
   },
   "outputs": [
    {
     "ename": "KeyboardInterrupt",
     "evalue": "",
     "output_type": "error",
     "traceback": [
      "\u001b[0;31m---------------------------------------------------------------------------\u001b[0m",
      "\u001b[0;31mKeyboardInterrupt\u001b[0m                         Traceback (most recent call last)",
      "\u001b[0;32m<ipython-input-24-a7d34a207904>\u001b[0m in \u001b[0;36m<module>\u001b[0;34m\u001b[0m\n\u001b[1;32m     55\u001b[0m         \u001b[0mplt\u001b[0m\u001b[0;34m.\u001b[0m\u001b[0mplot\u001b[0m\u001b[0;34m(\u001b[0m\u001b[0;34m[\u001b[0m\u001b[0mx_lNum\u001b[0m\u001b[0;34m,\u001b[0m \u001b[0mx_rNum\u001b[0m\u001b[0;34m]\u001b[0m\u001b[0;34m,\u001b[0m \u001b[0;34m[\u001b[0m\u001b[0my_lNum\u001b[0m\u001b[0;34m,\u001b[0m \u001b[0my_rNum\u001b[0m\u001b[0;34m]\u001b[0m\u001b[0;34m,\u001b[0m \u001b[0mcolor\u001b[0m \u001b[0;34m=\u001b[0m \u001b[0;34m'aqua'\u001b[0m\u001b[0;34m)\u001b[0m\u001b[0;34m\u001b[0m\u001b[0;34m\u001b[0m\u001b[0m\n\u001b[1;32m     56\u001b[0m         \u001b[0;31m#plt.legend()\u001b[0m\u001b[0;34m\u001b[0m\u001b[0;34m\u001b[0m\u001b[0;34m\u001b[0m\u001b[0m\n\u001b[0;32m---> 57\u001b[0;31m         \u001b[0mplt\u001b[0m\u001b[0;34m.\u001b[0m\u001b[0msavefig\u001b[0m\u001b[0;34m(\u001b[0m\u001b[0;34m\"./plots_temp_non_holo_wheel/\"\u001b[0m \u001b[0;34m+\u001b[0m \u001b[0mstr\u001b[0m\u001b[0;34m(\u001b[0m\u001b[0mnum\u001b[0m\u001b[0;34m)\u001b[0m \u001b[0;34m+\u001b[0m \u001b[0;34m\".png\"\u001b[0m\u001b[0;34m)\u001b[0m\u001b[0;34m\u001b[0m\u001b[0;34m\u001b[0m\u001b[0m\n\u001b[0m",
      "\u001b[0;32m~/.local/lib/python3.8/site-packages/matplotlib/pyplot.py\u001b[0m in \u001b[0;36msavefig\u001b[0;34m(*args, **kwargs)\u001b[0m\n\u001b[1;32m    722\u001b[0m     \u001b[0mfig\u001b[0m \u001b[0;34m=\u001b[0m \u001b[0mgcf\u001b[0m\u001b[0;34m(\u001b[0m\u001b[0;34m)\u001b[0m\u001b[0;34m\u001b[0m\u001b[0;34m\u001b[0m\u001b[0m\n\u001b[1;32m    723\u001b[0m     \u001b[0mres\u001b[0m \u001b[0;34m=\u001b[0m \u001b[0mfig\u001b[0m\u001b[0;34m.\u001b[0m\u001b[0msavefig\u001b[0m\u001b[0;34m(\u001b[0m\u001b[0;34m*\u001b[0m\u001b[0margs\u001b[0m\u001b[0;34m,\u001b[0m \u001b[0;34m**\u001b[0m\u001b[0mkwargs\u001b[0m\u001b[0;34m)\u001b[0m\u001b[0;34m\u001b[0m\u001b[0;34m\u001b[0m\u001b[0m\n\u001b[0;32m--> 724\u001b[0;31m     \u001b[0mfig\u001b[0m\u001b[0;34m.\u001b[0m\u001b[0mcanvas\u001b[0m\u001b[0;34m.\u001b[0m\u001b[0mdraw_idle\u001b[0m\u001b[0;34m(\u001b[0m\u001b[0;34m)\u001b[0m   \u001b[0;31m# need this if 'transparent=True' to reset colors\u001b[0m\u001b[0;34m\u001b[0m\u001b[0;34m\u001b[0m\u001b[0m\n\u001b[0m\u001b[1;32m    725\u001b[0m     \u001b[0;32mreturn\u001b[0m \u001b[0mres\u001b[0m\u001b[0;34m\u001b[0m\u001b[0;34m\u001b[0m\u001b[0m\n\u001b[1;32m    726\u001b[0m \u001b[0;34m\u001b[0m\u001b[0m\n",
      "\u001b[0;32m~/.local/lib/python3.8/site-packages/matplotlib/backend_bases.py\u001b[0m in \u001b[0;36mdraw_idle\u001b[0;34m(self, *args, **kwargs)\u001b[0m\n\u001b[1;32m   1945\u001b[0m         \u001b[0;32mif\u001b[0m \u001b[0;32mnot\u001b[0m \u001b[0mself\u001b[0m\u001b[0;34m.\u001b[0m\u001b[0m_is_idle_drawing\u001b[0m\u001b[0;34m:\u001b[0m\u001b[0;34m\u001b[0m\u001b[0;34m\u001b[0m\u001b[0m\n\u001b[1;32m   1946\u001b[0m             \u001b[0;32mwith\u001b[0m \u001b[0mself\u001b[0m\u001b[0;34m.\u001b[0m\u001b[0m_idle_draw_cntx\u001b[0m\u001b[0;34m(\u001b[0m\u001b[0;34m)\u001b[0m\u001b[0;34m:\u001b[0m\u001b[0;34m\u001b[0m\u001b[0;34m\u001b[0m\u001b[0m\n\u001b[0;32m-> 1947\u001b[0;31m                 \u001b[0mself\u001b[0m\u001b[0;34m.\u001b[0m\u001b[0mdraw\u001b[0m\u001b[0;34m(\u001b[0m\u001b[0;34m*\u001b[0m\u001b[0margs\u001b[0m\u001b[0;34m,\u001b[0m \u001b[0;34m**\u001b[0m\u001b[0mkwargs\u001b[0m\u001b[0;34m)\u001b[0m\u001b[0;34m\u001b[0m\u001b[0;34m\u001b[0m\u001b[0m\n\u001b[0m\u001b[1;32m   1948\u001b[0m \u001b[0;34m\u001b[0m\u001b[0m\n\u001b[1;32m   1949\u001b[0m     \u001b[0;34m@\u001b[0m\u001b[0mcbook\u001b[0m\u001b[0;34m.\u001b[0m\u001b[0mdeprecated\u001b[0m\u001b[0;34m(\u001b[0m\u001b[0;34m\"3.2\"\u001b[0m\u001b[0;34m)\u001b[0m\u001b[0;34m\u001b[0m\u001b[0;34m\u001b[0m\u001b[0m\n",
      "\u001b[0;32m~/.local/lib/python3.8/site-packages/matplotlib/backends/backend_agg.py\u001b[0m in \u001b[0;36mdraw\u001b[0;34m(self)\u001b[0m\n\u001b[1;32m    391\u001b[0m              (self.toolbar._wait_cursor_for_draw_cm() if self.toolbar\n\u001b[1;32m    392\u001b[0m               else nullcontext()):\n\u001b[0;32m--> 393\u001b[0;31m             \u001b[0mself\u001b[0m\u001b[0;34m.\u001b[0m\u001b[0mfigure\u001b[0m\u001b[0;34m.\u001b[0m\u001b[0mdraw\u001b[0m\u001b[0;34m(\u001b[0m\u001b[0mself\u001b[0m\u001b[0;34m.\u001b[0m\u001b[0mrenderer\u001b[0m\u001b[0;34m)\u001b[0m\u001b[0;34m\u001b[0m\u001b[0;34m\u001b[0m\u001b[0m\n\u001b[0m\u001b[1;32m    394\u001b[0m             \u001b[0;31m# A GUI class may be need to update a window using this draw, so\u001b[0m\u001b[0;34m\u001b[0m\u001b[0;34m\u001b[0m\u001b[0;34m\u001b[0m\u001b[0m\n\u001b[1;32m    395\u001b[0m             \u001b[0;31m# don't forget to call the superclass.\u001b[0m\u001b[0;34m\u001b[0m\u001b[0;34m\u001b[0m\u001b[0;34m\u001b[0m\u001b[0m\n",
      "\u001b[0;32m~/.local/lib/python3.8/site-packages/matplotlib/artist.py\u001b[0m in \u001b[0;36mdraw_wrapper\u001b[0;34m(artist, renderer, *args, **kwargs)\u001b[0m\n\u001b[1;32m     36\u001b[0m                 \u001b[0mrenderer\u001b[0m\u001b[0;34m.\u001b[0m\u001b[0mstart_filter\u001b[0m\u001b[0;34m(\u001b[0m\u001b[0;34m)\u001b[0m\u001b[0;34m\u001b[0m\u001b[0;34m\u001b[0m\u001b[0m\n\u001b[1;32m     37\u001b[0m \u001b[0;34m\u001b[0m\u001b[0m\n\u001b[0;32m---> 38\u001b[0;31m             \u001b[0;32mreturn\u001b[0m \u001b[0mdraw\u001b[0m\u001b[0;34m(\u001b[0m\u001b[0martist\u001b[0m\u001b[0;34m,\u001b[0m \u001b[0mrenderer\u001b[0m\u001b[0;34m,\u001b[0m \u001b[0;34m*\u001b[0m\u001b[0margs\u001b[0m\u001b[0;34m,\u001b[0m \u001b[0;34m**\u001b[0m\u001b[0mkwargs\u001b[0m\u001b[0;34m)\u001b[0m\u001b[0;34m\u001b[0m\u001b[0;34m\u001b[0m\u001b[0m\n\u001b[0m\u001b[1;32m     39\u001b[0m         \u001b[0;32mfinally\u001b[0m\u001b[0;34m:\u001b[0m\u001b[0;34m\u001b[0m\u001b[0;34m\u001b[0m\u001b[0m\n\u001b[1;32m     40\u001b[0m             \u001b[0;32mif\u001b[0m \u001b[0martist\u001b[0m\u001b[0;34m.\u001b[0m\u001b[0mget_agg_filter\u001b[0m\u001b[0;34m(\u001b[0m\u001b[0;34m)\u001b[0m \u001b[0;32mis\u001b[0m \u001b[0;32mnot\u001b[0m \u001b[0;32mNone\u001b[0m\u001b[0;34m:\u001b[0m\u001b[0;34m\u001b[0m\u001b[0;34m\u001b[0m\u001b[0m\n",
      "\u001b[0;32m~/.local/lib/python3.8/site-packages/matplotlib/figure.py\u001b[0m in \u001b[0;36mdraw\u001b[0;34m(self, renderer)\u001b[0m\n\u001b[1;32m   1733\u001b[0m \u001b[0;34m\u001b[0m\u001b[0m\n\u001b[1;32m   1734\u001b[0m             \u001b[0mself\u001b[0m\u001b[0;34m.\u001b[0m\u001b[0mpatch\u001b[0m\u001b[0;34m.\u001b[0m\u001b[0mdraw\u001b[0m\u001b[0;34m(\u001b[0m\u001b[0mrenderer\u001b[0m\u001b[0;34m)\u001b[0m\u001b[0;34m\u001b[0m\u001b[0;34m\u001b[0m\u001b[0m\n\u001b[0;32m-> 1735\u001b[0;31m             mimage._draw_list_compositing_images(\n\u001b[0m\u001b[1;32m   1736\u001b[0m                 renderer, self, artists, self.suppressComposite)\n\u001b[1;32m   1737\u001b[0m \u001b[0;34m\u001b[0m\u001b[0m\n",
      "\u001b[0;32m~/.local/lib/python3.8/site-packages/matplotlib/image.py\u001b[0m in \u001b[0;36m_draw_list_compositing_images\u001b[0;34m(renderer, parent, artists, suppress_composite)\u001b[0m\n\u001b[1;32m    135\u001b[0m     \u001b[0;32mif\u001b[0m \u001b[0mnot_composite\u001b[0m \u001b[0;32mor\u001b[0m \u001b[0;32mnot\u001b[0m \u001b[0mhas_images\u001b[0m\u001b[0;34m:\u001b[0m\u001b[0;34m\u001b[0m\u001b[0;34m\u001b[0m\u001b[0m\n\u001b[1;32m    136\u001b[0m         \u001b[0;32mfor\u001b[0m \u001b[0ma\u001b[0m \u001b[0;32min\u001b[0m \u001b[0martists\u001b[0m\u001b[0;34m:\u001b[0m\u001b[0;34m\u001b[0m\u001b[0;34m\u001b[0m\u001b[0m\n\u001b[0;32m--> 137\u001b[0;31m             \u001b[0ma\u001b[0m\u001b[0;34m.\u001b[0m\u001b[0mdraw\u001b[0m\u001b[0;34m(\u001b[0m\u001b[0mrenderer\u001b[0m\u001b[0;34m)\u001b[0m\u001b[0;34m\u001b[0m\u001b[0;34m\u001b[0m\u001b[0m\n\u001b[0m\u001b[1;32m    138\u001b[0m     \u001b[0;32melse\u001b[0m\u001b[0;34m:\u001b[0m\u001b[0;34m\u001b[0m\u001b[0;34m\u001b[0m\u001b[0m\n\u001b[1;32m    139\u001b[0m         \u001b[0;31m# Composite any adjacent images together\u001b[0m\u001b[0;34m\u001b[0m\u001b[0;34m\u001b[0m\u001b[0;34m\u001b[0m\u001b[0m\n",
      "\u001b[0;32m~/.local/lib/python3.8/site-packages/matplotlib/artist.py\u001b[0m in \u001b[0;36mdraw_wrapper\u001b[0;34m(artist, renderer, *args, **kwargs)\u001b[0m\n\u001b[1;32m     36\u001b[0m                 \u001b[0mrenderer\u001b[0m\u001b[0;34m.\u001b[0m\u001b[0mstart_filter\u001b[0m\u001b[0;34m(\u001b[0m\u001b[0;34m)\u001b[0m\u001b[0;34m\u001b[0m\u001b[0;34m\u001b[0m\u001b[0m\n\u001b[1;32m     37\u001b[0m \u001b[0;34m\u001b[0m\u001b[0m\n\u001b[0;32m---> 38\u001b[0;31m             \u001b[0;32mreturn\u001b[0m \u001b[0mdraw\u001b[0m\u001b[0;34m(\u001b[0m\u001b[0martist\u001b[0m\u001b[0;34m,\u001b[0m \u001b[0mrenderer\u001b[0m\u001b[0;34m,\u001b[0m \u001b[0;34m*\u001b[0m\u001b[0margs\u001b[0m\u001b[0;34m,\u001b[0m \u001b[0;34m**\u001b[0m\u001b[0mkwargs\u001b[0m\u001b[0;34m)\u001b[0m\u001b[0;34m\u001b[0m\u001b[0;34m\u001b[0m\u001b[0m\n\u001b[0m\u001b[1;32m     39\u001b[0m         \u001b[0;32mfinally\u001b[0m\u001b[0;34m:\u001b[0m\u001b[0;34m\u001b[0m\u001b[0;34m\u001b[0m\u001b[0m\n\u001b[1;32m     40\u001b[0m             \u001b[0;32mif\u001b[0m \u001b[0martist\u001b[0m\u001b[0;34m.\u001b[0m\u001b[0mget_agg_filter\u001b[0m\u001b[0;34m(\u001b[0m\u001b[0;34m)\u001b[0m \u001b[0;32mis\u001b[0m \u001b[0;32mnot\u001b[0m \u001b[0;32mNone\u001b[0m\u001b[0;34m:\u001b[0m\u001b[0;34m\u001b[0m\u001b[0;34m\u001b[0m\u001b[0m\n",
      "\u001b[0;32m~/.local/lib/python3.8/site-packages/matplotlib/axes/_base.py\u001b[0m in \u001b[0;36mdraw\u001b[0;34m(self, renderer, inframe)\u001b[0m\n\u001b[1;32m   2628\u001b[0m             \u001b[0mrenderer\u001b[0m\u001b[0;34m.\u001b[0m\u001b[0mstop_rasterizing\u001b[0m\u001b[0;34m(\u001b[0m\u001b[0;34m)\u001b[0m\u001b[0;34m\u001b[0m\u001b[0;34m\u001b[0m\u001b[0m\n\u001b[1;32m   2629\u001b[0m \u001b[0;34m\u001b[0m\u001b[0m\n\u001b[0;32m-> 2630\u001b[0;31m         \u001b[0mmimage\u001b[0m\u001b[0;34m.\u001b[0m\u001b[0m_draw_list_compositing_images\u001b[0m\u001b[0;34m(\u001b[0m\u001b[0mrenderer\u001b[0m\u001b[0;34m,\u001b[0m \u001b[0mself\u001b[0m\u001b[0;34m,\u001b[0m \u001b[0martists\u001b[0m\u001b[0;34m)\u001b[0m\u001b[0;34m\u001b[0m\u001b[0;34m\u001b[0m\u001b[0m\n\u001b[0m\u001b[1;32m   2631\u001b[0m \u001b[0;34m\u001b[0m\u001b[0m\n\u001b[1;32m   2632\u001b[0m         \u001b[0mrenderer\u001b[0m\u001b[0;34m.\u001b[0m\u001b[0mclose_group\u001b[0m\u001b[0;34m(\u001b[0m\u001b[0;34m'axes'\u001b[0m\u001b[0;34m)\u001b[0m\u001b[0;34m\u001b[0m\u001b[0;34m\u001b[0m\u001b[0m\n",
      "\u001b[0;32m~/.local/lib/python3.8/site-packages/matplotlib/image.py\u001b[0m in \u001b[0;36m_draw_list_compositing_images\u001b[0;34m(renderer, parent, artists, suppress_composite)\u001b[0m\n\u001b[1;32m    135\u001b[0m     \u001b[0;32mif\u001b[0m \u001b[0mnot_composite\u001b[0m \u001b[0;32mor\u001b[0m \u001b[0;32mnot\u001b[0m \u001b[0mhas_images\u001b[0m\u001b[0;34m:\u001b[0m\u001b[0;34m\u001b[0m\u001b[0;34m\u001b[0m\u001b[0m\n\u001b[1;32m    136\u001b[0m         \u001b[0;32mfor\u001b[0m \u001b[0ma\u001b[0m \u001b[0;32min\u001b[0m \u001b[0martists\u001b[0m\u001b[0;34m:\u001b[0m\u001b[0;34m\u001b[0m\u001b[0;34m\u001b[0m\u001b[0m\n\u001b[0;32m--> 137\u001b[0;31m             \u001b[0ma\u001b[0m\u001b[0;34m.\u001b[0m\u001b[0mdraw\u001b[0m\u001b[0;34m(\u001b[0m\u001b[0mrenderer\u001b[0m\u001b[0;34m)\u001b[0m\u001b[0;34m\u001b[0m\u001b[0;34m\u001b[0m\u001b[0m\n\u001b[0m\u001b[1;32m    138\u001b[0m     \u001b[0;32melse\u001b[0m\u001b[0;34m:\u001b[0m\u001b[0;34m\u001b[0m\u001b[0;34m\u001b[0m\u001b[0m\n\u001b[1;32m    139\u001b[0m         \u001b[0;31m# Composite any adjacent images together\u001b[0m\u001b[0;34m\u001b[0m\u001b[0;34m\u001b[0m\u001b[0;34m\u001b[0m\u001b[0m\n",
      "\u001b[0;32m~/.local/lib/python3.8/site-packages/matplotlib/artist.py\u001b[0m in \u001b[0;36mdraw_wrapper\u001b[0;34m(artist, renderer, *args, **kwargs)\u001b[0m\n\u001b[1;32m     36\u001b[0m                 \u001b[0mrenderer\u001b[0m\u001b[0;34m.\u001b[0m\u001b[0mstart_filter\u001b[0m\u001b[0;34m(\u001b[0m\u001b[0;34m)\u001b[0m\u001b[0;34m\u001b[0m\u001b[0;34m\u001b[0m\u001b[0m\n\u001b[1;32m     37\u001b[0m \u001b[0;34m\u001b[0m\u001b[0m\n\u001b[0;32m---> 38\u001b[0;31m             \u001b[0;32mreturn\u001b[0m \u001b[0mdraw\u001b[0m\u001b[0;34m(\u001b[0m\u001b[0martist\u001b[0m\u001b[0;34m,\u001b[0m \u001b[0mrenderer\u001b[0m\u001b[0;34m,\u001b[0m \u001b[0;34m*\u001b[0m\u001b[0margs\u001b[0m\u001b[0;34m,\u001b[0m \u001b[0;34m**\u001b[0m\u001b[0mkwargs\u001b[0m\u001b[0;34m)\u001b[0m\u001b[0;34m\u001b[0m\u001b[0;34m\u001b[0m\u001b[0m\n\u001b[0m\u001b[1;32m     39\u001b[0m         \u001b[0;32mfinally\u001b[0m\u001b[0;34m:\u001b[0m\u001b[0;34m\u001b[0m\u001b[0;34m\u001b[0m\u001b[0m\n\u001b[1;32m     40\u001b[0m             \u001b[0;32mif\u001b[0m \u001b[0martist\u001b[0m\u001b[0;34m.\u001b[0m\u001b[0mget_agg_filter\u001b[0m\u001b[0;34m(\u001b[0m\u001b[0;34m)\u001b[0m \u001b[0;32mis\u001b[0m \u001b[0;32mnot\u001b[0m \u001b[0;32mNone\u001b[0m\u001b[0;34m:\u001b[0m\u001b[0;34m\u001b[0m\u001b[0;34m\u001b[0m\u001b[0m\n",
      "\u001b[0;32m~/.local/lib/python3.8/site-packages/matplotlib/lines.py\u001b[0m in \u001b[0;36mdraw\u001b[0;34m(self, renderer)\u001b[0m\n\u001b[1;32m    778\u001b[0m                              .get_transformed_path_and_affine())\n\u001b[1;32m    779\u001b[0m             \u001b[0;32mif\u001b[0m \u001b[0mlen\u001b[0m\u001b[0;34m(\u001b[0m\u001b[0mtpath\u001b[0m\u001b[0;34m.\u001b[0m\u001b[0mvertices\u001b[0m\u001b[0;34m)\u001b[0m\u001b[0;34m:\u001b[0m\u001b[0;34m\u001b[0m\u001b[0;34m\u001b[0m\u001b[0m\n\u001b[0;32m--> 780\u001b[0;31m                 \u001b[0mgc\u001b[0m \u001b[0;34m=\u001b[0m \u001b[0mrenderer\u001b[0m\u001b[0;34m.\u001b[0m\u001b[0mnew_gc\u001b[0m\u001b[0;34m(\u001b[0m\u001b[0;34m)\u001b[0m\u001b[0;34m\u001b[0m\u001b[0;34m\u001b[0m\u001b[0m\n\u001b[0m\u001b[1;32m    781\u001b[0m                 \u001b[0mself\u001b[0m\u001b[0;34m.\u001b[0m\u001b[0m_set_gc_clip\u001b[0m\u001b[0;34m(\u001b[0m\u001b[0mgc\u001b[0m\u001b[0;34m)\u001b[0m\u001b[0;34m\u001b[0m\u001b[0;34m\u001b[0m\u001b[0m\n\u001b[1;32m    782\u001b[0m \u001b[0;34m\u001b[0m\u001b[0m\n",
      "\u001b[0;32m~/.local/lib/python3.8/site-packages/matplotlib/backend_bases.py\u001b[0m in \u001b[0;36mnew_gc\u001b[0;34m(self)\u001b[0m\n\u001b[1;32m    656\u001b[0m     \u001b[0;32mdef\u001b[0m \u001b[0mnew_gc\u001b[0m\u001b[0;34m(\u001b[0m\u001b[0mself\u001b[0m\u001b[0;34m)\u001b[0m\u001b[0;34m:\u001b[0m\u001b[0;34m\u001b[0m\u001b[0;34m\u001b[0m\u001b[0m\n\u001b[1;32m    657\u001b[0m         \u001b[0;34m\"\"\"Return an instance of a `GraphicsContextBase`.\"\"\"\u001b[0m\u001b[0;34m\u001b[0m\u001b[0;34m\u001b[0m\u001b[0m\n\u001b[0;32m--> 658\u001b[0;31m         \u001b[0;32mreturn\u001b[0m \u001b[0mGraphicsContextBase\u001b[0m\u001b[0;34m(\u001b[0m\u001b[0;34m)\u001b[0m\u001b[0;34m\u001b[0m\u001b[0;34m\u001b[0m\u001b[0m\n\u001b[0m\u001b[1;32m    659\u001b[0m \u001b[0;34m\u001b[0m\u001b[0m\n\u001b[1;32m    660\u001b[0m     \u001b[0;32mdef\u001b[0m \u001b[0mpoints_to_pixels\u001b[0m\u001b[0;34m(\u001b[0m\u001b[0mself\u001b[0m\u001b[0;34m,\u001b[0m \u001b[0mpoints\u001b[0m\u001b[0;34m)\u001b[0m\u001b[0;34m:\u001b[0m\u001b[0;34m\u001b[0m\u001b[0;34m\u001b[0m\u001b[0m\n",
      "\u001b[0;32m~/.local/lib/python3.8/site-packages/matplotlib/backend_bases.py\u001b[0m in \u001b[0;36m__init__\u001b[0;34m(self)\u001b[0m\n\u001b[1;32m    748\u001b[0m         \u001b[0mself\u001b[0m\u001b[0;34m.\u001b[0m\u001b[0m_rgb\u001b[0m \u001b[0;34m=\u001b[0m \u001b[0;34m(\u001b[0m\u001b[0;36m0.0\u001b[0m\u001b[0;34m,\u001b[0m \u001b[0;36m0.0\u001b[0m\u001b[0;34m,\u001b[0m \u001b[0;36m0.0\u001b[0m\u001b[0;34m,\u001b[0m \u001b[0;36m1.0\u001b[0m\u001b[0;34m)\u001b[0m\u001b[0;34m\u001b[0m\u001b[0;34m\u001b[0m\u001b[0m\n\u001b[1;32m    749\u001b[0m         \u001b[0mself\u001b[0m\u001b[0;34m.\u001b[0m\u001b[0m_hatch\u001b[0m \u001b[0;34m=\u001b[0m \u001b[0;32mNone\u001b[0m\u001b[0;34m\u001b[0m\u001b[0;34m\u001b[0m\u001b[0m\n\u001b[0;32m--> 750\u001b[0;31m         \u001b[0mself\u001b[0m\u001b[0;34m.\u001b[0m\u001b[0m_hatch_color\u001b[0m \u001b[0;34m=\u001b[0m \u001b[0mcolors\u001b[0m\u001b[0;34m.\u001b[0m\u001b[0mto_rgba\u001b[0m\u001b[0;34m(\u001b[0m\u001b[0mrcParams\u001b[0m\u001b[0;34m[\u001b[0m\u001b[0;34m'hatch.color'\u001b[0m\u001b[0;34m]\u001b[0m\u001b[0;34m)\u001b[0m\u001b[0;34m\u001b[0m\u001b[0;34m\u001b[0m\u001b[0m\n\u001b[0m\u001b[1;32m    751\u001b[0m         \u001b[0mself\u001b[0m\u001b[0;34m.\u001b[0m\u001b[0m_hatch_linewidth\u001b[0m \u001b[0;34m=\u001b[0m \u001b[0mrcParams\u001b[0m\u001b[0;34m[\u001b[0m\u001b[0;34m'hatch.linewidth'\u001b[0m\u001b[0;34m]\u001b[0m\u001b[0;34m\u001b[0m\u001b[0;34m\u001b[0m\u001b[0m\n\u001b[1;32m    752\u001b[0m         \u001b[0mself\u001b[0m\u001b[0;34m.\u001b[0m\u001b[0m_url\u001b[0m \u001b[0;34m=\u001b[0m \u001b[0;32mNone\u001b[0m\u001b[0;34m\u001b[0m\u001b[0;34m\u001b[0m\u001b[0m\n",
      "\u001b[0;32m~/.local/lib/python3.8/site-packages/matplotlib/colors.py\u001b[0m in \u001b[0;36mto_rgba\u001b[0;34m(c, alpha)\u001b[0m\n\u001b[1;32m    173\u001b[0m     \"\"\"\n\u001b[1;32m    174\u001b[0m     \u001b[0;31m# Special-case nth color syntax because it should not be cached.\u001b[0m\u001b[0;34m\u001b[0m\u001b[0;34m\u001b[0m\u001b[0;34m\u001b[0m\u001b[0m\n\u001b[0;32m--> 175\u001b[0;31m     \u001b[0;32mif\u001b[0m \u001b[0m_is_nth_color\u001b[0m\u001b[0;34m(\u001b[0m\u001b[0mc\u001b[0m\u001b[0;34m)\u001b[0m\u001b[0;34m:\u001b[0m\u001b[0;34m\u001b[0m\u001b[0;34m\u001b[0m\u001b[0m\n\u001b[0m\u001b[1;32m    176\u001b[0m         \u001b[0;32mfrom\u001b[0m \u001b[0mmatplotlib\u001b[0m \u001b[0;32mimport\u001b[0m \u001b[0mrcParams\u001b[0m\u001b[0;34m\u001b[0m\u001b[0;34m\u001b[0m\u001b[0m\n\u001b[1;32m    177\u001b[0m         \u001b[0mprop_cycler\u001b[0m \u001b[0;34m=\u001b[0m \u001b[0mrcParams\u001b[0m\u001b[0;34m[\u001b[0m\u001b[0;34m'axes.prop_cycle'\u001b[0m\u001b[0;34m]\u001b[0m\u001b[0;34m\u001b[0m\u001b[0;34m\u001b[0m\u001b[0m\n",
      "\u001b[0;32m~/.local/lib/python3.8/site-packages/matplotlib/colors.py\u001b[0m in \u001b[0;36m_is_nth_color\u001b[0;34m(c)\u001b[0m\n\u001b[1;32m    121\u001b[0m \u001b[0;34m\u001b[0m\u001b[0m\n\u001b[1;32m    122\u001b[0m \u001b[0;34m\u001b[0m\u001b[0m\n\u001b[0;32m--> 123\u001b[0;31m \u001b[0;32mdef\u001b[0m \u001b[0m_is_nth_color\u001b[0m\u001b[0;34m(\u001b[0m\u001b[0mc\u001b[0m\u001b[0;34m)\u001b[0m\u001b[0;34m:\u001b[0m\u001b[0;34m\u001b[0m\u001b[0;34m\u001b[0m\u001b[0m\n\u001b[0m\u001b[1;32m    124\u001b[0m     \u001b[0;34m\"\"\"Return whether *c* can be interpreted as an item in the color cycle.\"\"\"\u001b[0m\u001b[0;34m\u001b[0m\u001b[0;34m\u001b[0m\u001b[0m\n\u001b[1;32m    125\u001b[0m     \u001b[0;32mreturn\u001b[0m \u001b[0misinstance\u001b[0m\u001b[0;34m(\u001b[0m\u001b[0mc\u001b[0m\u001b[0;34m,\u001b[0m \u001b[0mstr\u001b[0m\u001b[0;34m)\u001b[0m \u001b[0;32mand\u001b[0m \u001b[0mre\u001b[0m\u001b[0;34m.\u001b[0m\u001b[0mmatch\u001b[0m\u001b[0;34m(\u001b[0m\u001b[0;34mr\"\\AC[0-9]+\\Z\"\u001b[0m\u001b[0;34m,\u001b[0m \u001b[0mc\u001b[0m\u001b[0;34m)\u001b[0m\u001b[0;34m\u001b[0m\u001b[0;34m\u001b[0m\u001b[0m\n",
      "\u001b[0;31mKeyboardInterrupt\u001b[0m: "
     ]
    },
    {
     "data": {
      "image/png": "[encoded data removed]",
      "text/plain": [
       "<Figure size 432x288 with 1 Axes>"
      ]
     },
     "metadata": {
      "needs_background": "light"
     },
     "output_type": "display_data"
    }
   ],
   "source": [
    "x = []\n",
    "y = []\n",
    "y_l = []\n",
    "x_l = []\n",
    "x_r = []\n",
    "y_r = []\n",
    "d = 0.05\n",
    "for num, r in enumerate(P):\n",
    "    x.append(r[0])\n",
    "    y.append(r[1])\n",
    "    P_0 = np.array([r[0], r[1]])\n",
    "    P_1 = np.array([r[0], r[1]])\n",
    "    P_2 = np.array([r[0], r[1]])\n",
    "\n",
    "    if num == 0:\n",
    "        P_0 = np.array([r[0], r[1] - 1])\n",
    "        P_1 = np.array([r[0], r[1]])\n",
    "        P_2 = np.array([P[num + 1][0], P[num + 1][1]])\n",
    "    if num == len(P) - 1:\n",
    "        pass\n",
    "    else:\n",
    "        P_0 = np.array([P[num - 1][0], P[num - 1][1]])\n",
    "        P_1 = np.array([r[0], r[1]])\n",
    "        P_2 = np.array([P[num + 1][0], P[num + 1][1]])\n",
    "        \n",
    "    m1 = get_gradient(P_0, P_1)\n",
    "    m2 = get_gradient(P_1, P_2)\n",
    "    \n",
    "    rad_rot = get_angle(m1, m2)\n",
    "    \n",
    "    if degrees(rad_rot) >= 0:\n",
    "        y_l.append(r[1] + d * sin(rad_rot))\n",
    "        x_l.append(r[0] - d * cos(rad_rot))\n",
    "        y_r.append(r[1] - d * sin(rad_rot))\n",
    "        x_r.append(r[0] + d * cos(rad_rot))\n",
    "    else:\n",
    "        y_r.append(r[1] - d * sin(rad_rot))\n",
    "        x_r.append(r[0] - d * cos(rad_rot))\n",
    "        y_l.append(r[1] + d * sin(rad_rot))\n",
    "        x_l.append(r[0] + d * cos(rad_rot))\n",
    "\n",
    "    if num % 10 == 0 or num == len(P) - 1:\n",
    "        xNum = np.array(x)\n",
    "        yNum = np.array(y)\n",
    "        x_rNum = np.array(x_r)\n",
    "        y_rNum = np.array(y_r)\n",
    "        x_lNum = np.array(x_l)\n",
    "        y_lNum = np.array(y_l)\n",
    "        #plt.figure(figsize = (20,20))\n",
    "        plt.xlim([-2.5, 2.5])\n",
    "        plt.ylim([-2.5, 2.5])\n",
    "        plt.plot(xNum, yNum, label = \"ICC\")\n",
    "        plt.plot(x_lNum, y_lNum, label = \"left wheel\")\n",
    "        plt.plot(x_rNum, y_rNum, label = \"right wheel\")\n",
    "        plt.plot([x_lNum, x_rNum], [y_lNum, y_rNum], color = 'aqua')\n",
    "        #plt.legend()\n",
    "        plt.savefig(\"./plots_temp_non_holo_wheel/\" + str(num) + \".png\")\n"
   ]
  },
  {
   "cell_type": "code",
   "execution_count": 27,
   "metadata": {},
   "outputs": [
    {
     "name": "stdout",
     "output_type": "stream",
     "text": [
      "161\n"
     ]
    },
    {
     "data": {
      "text/plain": [
       "True"
      ]
     },
     "execution_count": 27,
     "metadata": {},
     "output_type": "execute_result"
    }
   ],
   "source": [
    "frames_to_video_wheel(\"./plots_temp_non_holo_wheel/*.png\", \"./non_holonomic_wheel_path.mp4\", 12)"
   ]
  },
  {
   "cell_type": "code",
   "execution_count": null,
   "metadata": {},
   "outputs": [],
   "source": []
  }
 ],
 "metadata": {
  "kernelspec": {
   "display_name": "Python 3",
   "language": "python",
   "name": "python3"
  },
  "language_info": {
   "codemirror_mode": {
    "name": "ipython",
    "version": 3
   },
   "file_extension": ".py",
   "mimetype": "text/x-python",
   "name": "python",
   "nbconvert_exporter": "python",
   "pygments_lexer": "ipython3",
   "version": "3.8.5"
  }
 },
 "nbformat": 4,
 "nbformat_minor": 4
}
